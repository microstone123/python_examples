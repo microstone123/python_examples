{
 "cells": [
  {
   "cell_type": "code",
   "execution_count": 7,
   "metadata": {},
   "outputs": [
    {
     "ename": "AttributeError",
     "evalue": "module 'turtle' has no attribute '__version__'",
     "output_type": "error",
     "traceback": [
      "\u001b[0;31m---------------------------------------------------------------------------\u001b[0m",
      "\u001b[0;31mAttributeError\u001b[0m                            Traceback (most recent call last)",
      "\u001b[0;32m<ipython-input-7-ce013c13b642>\u001b[0m in \u001b[0;36m<module>\u001b[0;34m\u001b[0m\n\u001b[1;32m      1\u001b[0m \u001b[0;32mimport\u001b[0m \u001b[0mturtle\u001b[0m \u001b[0;32mas\u001b[0m \u001b[0mp\u001b[0m\u001b[0;34m\u001b[0m\u001b[0;34m\u001b[0m\u001b[0m\n\u001b[0;32m----> 2\u001b[0;31m \u001b[0mp\u001b[0m\u001b[0;34m.\u001b[0m\u001b[0m__version__\u001b[0m\u001b[0;34m\u001b[0m\u001b[0;34m\u001b[0m\u001b[0m\n\u001b[0m\u001b[1;32m      3\u001b[0m \u001b[0;31m# import random\u001b[0m\u001b[0;34m\u001b[0m\u001b[0;34m\u001b[0m\u001b[0;34m\u001b[0m\u001b[0m\n\u001b[1;32m      4\u001b[0m \u001b[0;34m\u001b[0m\u001b[0m\n\u001b[1;32m      5\u001b[0m \u001b[0;31m# def snow(snow_count):\u001b[0m\u001b[0;34m\u001b[0m\u001b[0;34m\u001b[0m\u001b[0;34m\u001b[0m\u001b[0m\n",
      "\u001b[0;31mAttributeError\u001b[0m: module 'turtle' has no attribute '__version__'"
     ]
    }
   ],
   "source": [
    "import turtle as p\n",
    "p.__version__\n",
    "# import random\n",
    "\n",
    "# def snow(snow_count):\n",
    "#     p.hideturtle()\n",
    "#     p.speed(500)\n",
    "#     p.pensize(2)\n",
    "#     for i in range(snow_count):\n",
    "#         r = random.random()\n",
    "#         g = random.random()\n",
    "#         b = random.random()\n",
    "#         p.pencolor(r, g, b)\n",
    "#         p.pu()\n",
    "#         p.goto(random.randint(-350, 350), random.randint(1, 270))\n",
    "#         p.pd()\n",
    "#         dens = random.randint(8, 12)\n",
    "#         snowsize = random.randint(10, 14)\n",
    "#         for _ in range(dens):\n",
    "#             p.forward(snowsize)  # 向当前画笔方向移动snowsize像素长度\n",
    "#             p.backward(snowsize)  # 向当前画笔相反方向移动snowsize像素长度\n",
    "#             p.right(360 / dens)  # 顺时针移动360 / dens度\n",
    "            \n",
    "# def ground(ground_line_count):\n",
    "#     p.hideturtle()\n",
    "#     p.speed(500)\n",
    "#     for i in range(ground_line_count):\n",
    "#         p.pensize(random.randint(5, 10))\n",
    "#         x = random.randint(-400, 350)\n",
    "#         y = random.randint(-280, -1)\n",
    "#         r = -y / 280\n",
    "#         g = -y / 280\n",
    "#         b = -y / 280\n",
    "#         p.pencolor(r, g, b)\n",
    "#         p.penup()  # 抬起画笔\n",
    "#         p.goto(x, y)  # 让画笔移动到此位置\n",
    "#         p.pendown()  # 放下画笔\n",
    "#         p.forward(random.randint(40, 100))  # 眼当前画笔方向向前移动40~100距离\n",
    "\n",
    "        \n",
    "# def main():\n",
    "#     p.setup(800, 600, 0, 0)\n",
    "#     # p.tracer(False)\n",
    "#     p.bgcolor(\"black\")\n",
    "#     snow(30)\n",
    "#     ground(30)\n",
    "#     # p.tracer(True)\n",
    "#     p.mainloop()\n",
    "\n",
    "    \n",
    "# main()"
   ]
  },
  {
   "cell_type": "code",
   "execution_count": null,
   "metadata": {},
   "outputs": [],
   "source": []
  }
 ],
 "metadata": {
  "kernelspec": {
   "display_name": "util_tool",
   "language": "python",
   "name": "util_tool"
  },
  "language_info": {
   "codemirror_mode": {
    "name": "ipython",
    "version": 3
   },
   "file_extension": ".py",
   "mimetype": "text/x-python",
   "name": "python",
   "nbconvert_exporter": "python",
   "pygments_lexer": "ipython3",
   "version": "3.7.5"
  }
 },
 "nbformat": 4,
 "nbformat_minor": 2
}
